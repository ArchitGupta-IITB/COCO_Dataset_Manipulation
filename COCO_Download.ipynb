{
 "cells": [
  {
   "cell_type": "code",
   "execution_count": 1,
   "metadata": {},
   "outputs": [
    {
     "name": "stdout",
     "output_type": "stream",
     "text": [
      "mkdir: cannot create directory ‘COCO_DATASET’: File exists\n",
      "--2023-12-14 18:35:36--  http://images.cocodataset.org/zips/unlabeled2017.zip\n",
      "Resolving images.cocodataset.org (images.cocodataset.org)... 52.216.216.241, 3.5.29.161, 54.231.161.97, ...\n",
      "Connecting to images.cocodataset.org (images.cocodataset.org)|52.216.216.241|:80... connected.\n",
      "HTTP request sent, awaiting response... 200 OK\n",
      "Length: 20126613414 (19G) [application/zip]\n",
      "Saving to: ‘./COCO_DATASET/coco_unlabeled2017.zip’\n",
      "\n",
      "       ./COCO_DATAS   2%[                    ] 441.66M  5.35MB/s    eta 69m 57s^C\n",
      "--2023-12-14 18:37:16--  http://images.cocodataset.org/zips/train2017.zip\n",
      "Resolving images.cocodataset.org (images.cocodataset.org)... 16.182.41.33, 3.5.25.213, 52.217.119.121, ...\n",
      "Connecting to images.cocodataset.org (images.cocodataset.org)|16.182.41.33|:80... connected.\n",
      "HTTP request sent, awaiting response... 200 OK\n",
      "Length: 19336861798 (18G) [application/zip]\n",
      "Saving to: ‘./COCO_DATASET/coco_train2017.zip’\n",
      "\n",
      "                 ./   0%[                    ]  32.42M  2.89MB/s    eta 2h 1m  "
     ]
    }
   ],
   "source": [
    "!mkdir COCO_DATASET\n",
    "!wget http://images.cocodataset.org/zips/unlabeled2017.zip -O ./COCO_DATASET/coco_unlabeled2017.zip\n",
    "!wget http://images.cocodataset.org/zips/train2017.zip -O ./COCO_DATASET/coco_train2017.zip\n",
    "!wget http://images.cocodataset.org/zips/val2017.zip -O ./COCO_DATASET/coco_val2017.zip\n",
    "!wget http://images.cocodataset.org/annotations/annotations_trainval2017.zip -O ./COCO_DATASET/coco_ann2017.zip\n",
    "!wget http://images.cocodataset.org/zips/test2017.zip -O ./COCO_DATASET/coco_test2017.zip"
   ]
  },
  {
   "cell_type": "code",
   "execution_count": null,
   "metadata": {},
   "outputs": [],
   "source": [
    "from zipfile import ZipFile, BadZipFile\n",
    "import os\n",
    "\n",
    "def extract_zip_file(extract_path):\n",
    "    try:\n",
    "        with ZipFile(extract_path+\".zip\") as zfile:\n",
    "            zfile.extractall(extract_path)\n",
    "\n",
    "        # remove zipfile\n",
    "        zfileTOremove=f\"{extract_path}\"+\".zip\"\n",
    "        if os.path.isfile(zfileTOremove):\n",
    "            os.remove(zfileTOremove)\n",
    "        else:\n",
    "            print(\"Error: %s file not found\" % zfileTOremove)    \n",
    "\n",
    "    except BadZipFile as e:\n",
    "        print(\"Error:\", e)\n",
    "\n",
    "\n",
    "\n",
    "extract_paths= [\"./COCO_DATASET/coco_unlabeled2017\",\"./COCO_DATASET/coco_train2017\",\"./COCO_DATASET/coco_val2017\",\"./COCO_DATSET/coco_ann2017\",\"./COCO_DATASET/coco_test2017\"]\n",
    "for path_to_be_extracted in extract_paths:\n",
    "    extract_zip_file(path_to_be_extracted)"
   ]
  }
 ],
 "metadata": {
  "kernelspec": {
   "display_name": "Python 3",
   "language": "python",
   "name": "python3"
  },
  "language_info": {
   "codemirror_mode": {
    "name": "ipython",
    "version": 3
   },
   "file_extension": ".py",
   "mimetype": "text/x-python",
   "name": "python",
   "nbconvert_exporter": "python",
   "pygments_lexer": "ipython3",
   "version": "3.10.12"
  }
 },
 "nbformat": 4,
 "nbformat_minor": 2
}
