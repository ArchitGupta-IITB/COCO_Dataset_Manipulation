{
 "cells": [
  {
   "cell_type": "code",
   "execution_count": null,
   "metadata": {},
   "outputs": [],
   "source": [
    "!mkdir COCO_DATASET\n",
    "!wget http://images.cocodataset.org/zips/unlabeled2017.zip -O ./COCO_DATASET/coco_unlabeled2017.zip\n",
    "!wget http://images.cocodataset.org/zips/train2017.zip -O ./COCO_DATASET/coco_train2017.zip\n",
    "!wget http://images.cocodataset.org/zips/val2017.zip -O ./COCO_DATASET/coco_val2017.zip\n",
    "!wget http://images.cocodataset.org/annotations/annotations_trainval2017.zip -O ./COCO_DATSET/coco_ann2017.zip\n",
    "!wget http://images.cocodataset.org/zips/test2017.zip ./COCO_DATASET/coco_test2017.zip"
   ]
  },
  {
   "cell_type": "code",
   "execution_count": null,
   "metadata": {},
   "outputs": [],
   "source": [
    "from zipfile import ZipFile, BadZipFile\n",
    "import os\n",
    "\n",
    "def extract_zip_file(extract_path):\n",
    "    try:\n",
    "        with ZipFile(extract_path+\".zip\") as zfile:\n",
    "            zfile.extractall(extract_path)\n",
    "\n",
    "        # remove zipfile\n",
    "        zfileTOremove=f\"{extract_path}\"+\".zip\"\n",
    "        if os.path.isfile(zfileTOremove):\n",
    "            os.remove(zfileTOremove)\n",
    "        else:\n",
    "            print(\"Error: %s file not found\" % zfileTOremove)    \n",
    "\n",
    "    except BadZipFile as e:\n",
    "        print(\"Error:\", e)\n",
    "\n",
    "\n",
    "\n",
    "extract_paths= [\"./COCO_DATASET/coco_unlabeled2017\",\"./COCO_DATASET/coco_train2017\",\"./COCO_DATASET/coco_val2017\",\"./COCO_DATSET/coco_ann2017\",\"./COCO_DATASET/coco_test2017\"]\n",
    "for path_to_be_extracted in extract_paths:\n",
    "    extract_zip_file(path_to_be_extracted)"
   ]
  }
 ],
 "metadata": {
  "language_info": {
   "name": "python"
  }
 },
 "nbformat": 4,
 "nbformat_minor": 2
}
